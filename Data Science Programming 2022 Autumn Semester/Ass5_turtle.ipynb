{
 "cells": [
  {
   "cell_type": "markdown",
   "id": "60a8f128",
   "metadata": {},
   "source": [
    "\n",
    "# 数据科学编程Ⅱ   \n",
    "\n",
    "# Assignment5\n",
    "\n",
    "# 姓名：聂嘉一    学号：320200931181"
   ]
  },
  {
   "cell_type": "code",
   "execution_count": 1,
   "id": "b040cd40",
   "metadata": {},
   "outputs": [],
   "source": [
    "import turtle"
   ]
  },
  {
   "cell_type": "markdown",
   "id": "3c26774f",
   "metadata": {},
   "source": [
    "## 1.绘制蟒蛇"
   ]
  },
  {
   "cell_type": "code",
   "execution_count": 6,
   "id": "fe032e21",
   "metadata": {},
   "outputs": [],
   "source": [
    "def drawPyhon():\n",
    "    turtle.speed(9)\n",
    "    turtle.setup(650, 350, 200, 200)\n",
    "    turtle.penup()\n",
    "    turtle.fd(-250)\n",
    "    turtle.pendown()\n",
    "    turtle.pensize(25)\n",
    "    turtle.pencolor('purple')\n",
    "    turtle.seth(-40)\n",
    "    for i in range(4):\n",
    "        turtle.circle(40, 80)\n",
    "        turtle.circle(-40, 80)\n",
    "    turtle.circle(40, 80/2)\n",
    "    turtle.fd(40)\n",
    "    turtle.circle(16, 180)\n",
    "    turtle.fd(40*2/3)\n",
    "    turtle.done()\n",
    "    \n",
    "drawPyhon()"
   ]
  },
  {
   "cell_type": "markdown",
   "id": "c37adbd8",
   "metadata": {},
   "source": [
    "## 2.绘制五角星"
   ]
  },
  {
   "cell_type": "code",
   "execution_count": 3,
   "id": "79a9af2b",
   "metadata": {},
   "outputs": [],
   "source": [
    "def drawStar():\n",
    "    turtle.pensize(4)\n",
    "    turtle.pencolor(\"yellow\") #画笔黄色\n",
    "    turtle.fillcolor(\"red\") #内部填充红色 \n",
    "    turtle.begin_fill()\n",
    "    for i in range(5): #重复执行5次\n",
    "        turtle.forward(200) #向前移动200步\n",
    "        turtle.right(144)  #向右移动144度，注意这里的参数一定不能变\n",
    "    turtle.end_fill() #结束填充红色\n",
    "    turtle.done()\n",
    "\n",
    "drawStar()"
   ]
  },
  {
   "cell_type": "markdown",
   "id": "d27a2446",
   "metadata": {},
   "source": [
    "## 3.绘制太阳花"
   ]
  },
  {
   "cell_type": "code",
   "execution_count": 8,
   "id": "82527fb8",
   "metadata": {},
   "outputs": [],
   "source": [
    "def drawSunFlower(): \n",
    "    turtle.color(\"red\",\"yellow\")\n",
    "    turtle.speed(8)\n",
    "    turtle.begin_fill()\n",
    "    for i in range(50):\n",
    "        turtle.forward(200)\n",
    "        turtle.left(170)\n",
    "        \n",
    "    turtle.end_fill()\n",
    "    turtle.done()\n",
    "    \n",
    "drawSunFlower()"
   ]
  },
  {
   "cell_type": "markdown",
   "id": "43ccc9d1",
   "metadata": {},
   "source": [
    "## 4.绘制心形"
   ]
  },
  {
   "cell_type": "code",
   "execution_count": 10,
   "id": "548764d9",
   "metadata": {},
   "outputs": [],
   "source": [
    "def drawHeartShape():\n",
    "    turtle.color(\"black\",\"red\")\n",
    "    turtle.begin_fill()\n",
    "    turtle.setup(650,350,200,200)\n",
    "    turtle.left(45) \n",
    "    turtle.fd(100)\n",
    "    turtle.circle(-50, 180)\n",
    "    turtle.fd(200)\n",
    "    turtle.seth(135)\n",
    "    turtle.fd(200)\n",
    "    turtle.circle(-50, 180)\n",
    "    turtle.fd(100)\n",
    "    turtle.penup()\n",
    "    turtle.end_fill()\n",
    "    turtle.done()\n",
    "    \n",
    "drawHeartShape()"
   ]
  },
  {
   "cell_type": "markdown",
   "id": "eafd0e2b",
   "metadata": {},
   "source": [
    "## 5.绘制时钟"
   ]
  },
  {
   "cell_type": "code",
   "execution_count": 9,
   "id": "5e740ccc",
   "metadata": {},
   "outputs": [],
   "source": [
    "from turtle import *\n",
    "from datetime import *\n",
    "\n",
    "def drawClock(radius):\n",
    "    reset()\n",
    "    pensize(7)\n",
    "    for i in range(60):\n",
    "        skip(radius)\n",
    "        if i %5 == 0:\n",
    "            forward(20)\n",
    "            skip(-radius-20)\n",
    "        else:\n",
    "            dot(5)\n",
    "            skip(-radius)\n",
    "        right(6)\n",
    "        \n",
    "def drawClockHand(name,length):\n",
    "    reset()\n",
    "    skip(-length*0.1)\n",
    "    begin_poly()\n",
    "    forward(length*1.1)\n",
    "    end_poly()\n",
    "    handform=get_poly()\n",
    "    register_shape(name,handform)\n",
    "\n",
    "def drawClockTick():\n",
    "    t = datetime.today()\n",
    "    second = t.second+t.microsecond*0.000001\n",
    "    minute = t.minute+second/60.0\n",
    "    hour = t.hour+second/60.0\n",
    "    sechand.setheading(6*second)\n",
    "    minhand.setheading(6*minute)\n",
    "    hurhand.setheading(30*hour)\n",
    "    tracer(False)\n",
    "    printer.forward(65)\n",
    "    printer.write(showWeek(t),align=\"center\",font=(\"Courier\",14,\"bold\"))\n",
    "    printer.back(130)\n",
    "    printer.write(showDate(t),align=\"center\",font=(\"Courier\",14,\"bold\"))\n",
    "    printer.home()\n",
    "    tracer(True)\n",
    "    ontimer(drawClockTick,100)\n",
    "\n",
    "def skip(step):\n",
    "    penup()\n",
    "    forward(step)\n",
    "    pendown()\n",
    "\n",
    "def showWeek(t):\n",
    "    weekList = range(1,8)\n",
    "    return \"星期\" + str(weekList[t.weekday()])\n",
    "\n",
    "def showDate(t):\n",
    "    y = t.year\n",
    "    m = t.month\n",
    "    d = t.day\n",
    "    return \"%s %d %d\" %(y,m,d)\n",
    "\n",
    "def main():\n",
    "    global sechand,minhand,hurhand,printer\n",
    "    tracer(False)\n",
    "\n",
    "    mode(\"logo\")\n",
    "    drawClockHand(\"sechand\",125)\n",
    "    drawClockHand(\"minhand\",130)\n",
    "    drawClockHand(\"hurhand\",90)\n",
    "    sechand=Turtle()\n",
    "    sechand.shape(\"sechand\")\n",
    "    minhand=Turtle()\n",
    "    minhand.shape(\"minhand\")\n",
    "    hurhand=Turtle()\n",
    "    hurhand.shape(\"hurhand\")\n",
    "    for hand in sechand,minhand,hurhand:\n",
    "        hand.shapesize(1,1,3)\n",
    "        hand.speed(0)\n",
    "    printer = Turtle()\n",
    "    printer.hideturtle()\n",
    "    printer.penup()\n",
    "    drawClock(160)\n",
    "    \n",
    "    tracer(True)\n",
    "    drawClockTick()\n",
    "    turtle.done()\n",
    "    \n",
    "main()"
   ]
  },
  {
   "cell_type": "code",
   "execution_count": null,
   "id": "1e70df2e",
   "metadata": {},
   "outputs": [],
   "source": []
  }
 ],
 "metadata": {
  "kernelspec": {
   "display_name": "Python 3",
   "language": "python",
   "name": "python3"
  },
  "language_info": {
   "codemirror_mode": {
    "name": "ipython",
    "version": 3
   },
   "file_extension": ".py",
   "mimetype": "text/x-python",
   "name": "python",
   "nbconvert_exporter": "python",
   "pygments_lexer": "ipython3",
   "version": "3.8.8"
  }
 },
 "nbformat": 4,
 "nbformat_minor": 5
}
