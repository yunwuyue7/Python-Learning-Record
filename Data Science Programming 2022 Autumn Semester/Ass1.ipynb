{
 "cells": [
  {
   "cell_type": "code",
   "execution_count": 148,
   "id": "0d4c40f7",
   "metadata": {},
   "outputs": [],
   "source": [
    "import numpy as np"
   ]
  },
  {
   "cell_type": "code",
   "execution_count": 149,
   "id": "833a3549",
   "metadata": {},
   "outputs": [],
   "source": [
    "# 1不重复的4位数\n",
    "from copy import deepcopy\n",
    "def getNumber(TargetNum,NowNum,myList):\n",
    "    global counts\n",
    "    if TargetNum > NowNum:\n",
    "        for i in range(1,5):\n",
    "            if i not in myList:\n",
    "                nextList = deepcopy(myList)\n",
    "                nextList.append(i)\n",
    "                getNumber(TargetNum,NowNum+1,nextList)\n",
    "    elif TargetNum == NowNum:\n",
    "        for i in myList:\n",
    "            print(i,end=\"\")\n",
    "        print(\",\",end=\"\")\n",
    "        counts += 1"
   ]
  },
  {
   "cell_type": "code",
   "execution_count": 150,
   "id": "8992e2d9",
   "metadata": {},
   "outputs": [
    {
     "name": "stdout",
     "output_type": "stream",
     "text": [
      "The numbers are:  1234,1243,1324,1342,1423,1432,2134,2143,2314,2341,2413,2431,3124,3142,3214,3241,3412,3421,4123,4132,4213,4231,4312,4321,\n",
      "total Number: 24\n"
     ]
    }
   ],
   "source": [
    "counts=0\n",
    "print(\"The numbers are: \",end=\" \")\n",
    "getNumber(4,0,[])\n",
    "print(\"\")\n",
    "print(\"total Number:\",counts)"
   ]
  },
  {
   "cell_type": "code",
   "execution_count": 151,
   "id": "f050be0e",
   "metadata": {},
   "outputs": [
    {
     "name": "stdout",
     "output_type": "stream",
     "text": [
      "80\n"
     ]
    }
   ],
   "source": [
    "# 2三个数字的乘积\n",
    "def prod3(a,b,c):\n",
    "    return a*b*c\n",
    "\n",
    "print(prod3(4,2,10))"
   ]
  },
  {
   "cell_type": "code",
   "execution_count": 152,
   "id": "4c06ed2a",
   "metadata": {},
   "outputs": [
    {
     "name": "stdout",
     "output_type": "stream",
     "text": [
      "6400\n"
     ]
    }
   ],
   "source": [
    "# 3三个数平方的乘积\n",
    "def quadprod3(a,b,c):\n",
    "    a_square = np.square(a)\n",
    "    b_square = np.square(b)\n",
    "    c_square = np.square(c)\n",
    "    return a_square * b_square * c_square\n",
    "\n",
    "print(quadprod3(4,2,10))"
   ]
  },
  {
   "cell_type": "code",
   "execution_count": 153,
   "id": "70807690",
   "metadata": {},
   "outputs": [
    {
     "name": "stdout",
     "output_type": "stream",
     "text": [
      "BMI的估计值为22.86\n"
     ]
    }
   ],
   "source": [
    "# 4计算BMI \n",
    "# BMI = 体重/身高**2,计算结果保留两位小数\n",
    "def bmi(weight,height):\n",
    "    return weight/height**2\n",
    "\n",
    "print('BMI的估计值为' + \"%.2f\"%(bmi(70,1.75)))"
   ]
  },
  {
   "cell_type": "code",
   "execution_count": 154,
   "id": "d316fd3c",
   "metadata": {},
   "outputs": [
    {
     "name": "stdout",
     "output_type": "stream",
     "text": [
      "体脂百分比的估计值为23.38%\n"
     ]
    }
   ],
   "source": [
    "# 5计算体脂率百分比\n",
    "# CG = 1.294 * BMI + 0.2 * 年龄 - 11.4 * 性别 - 0.8\n",
    "def bodyFat(weight, height, age, gender):\n",
    "    return 1.294 * bmi(weight,height) + 0.2 * age - 11.4 * gender - 0.8\n",
    "\n",
    "cal_bodyFat = bodyFat(weight = 70, height = 1.75, age = 30, gender = 1)\n",
    "print('体脂百分比的估计值为' + \"%.2f\"%cal_bodyFat + '%')"
   ]
  },
  {
   "cell_type": "code",
   "execution_count": 155,
   "id": "45af5a9c",
   "metadata": {},
   "outputs": [
    {
     "name": "stdout",
     "output_type": "stream",
     "text": [
      "0\n"
     ]
    }
   ],
   "source": [
    "#6 \n",
    "def intervalPlus(a,b,x):\n",
    "    if x < a and x < b:\n",
    "        return -1\n",
    "    if x > a and x > b:\n",
    "        return 1\n",
    "    if (x > a and x < b) or (x < a and x > b):\n",
    "        return 0\n",
    "\n",
    "print(intervalPlus(1,3,2))"
   ]
  },
  {
   "cell_type": "code",
   "execution_count": 156,
   "id": "d852027e",
   "metadata": {},
   "outputs": [
    {
     "name": "stdout",
     "output_type": "stream",
     "text": [
      "3628800\n"
     ]
    }
   ],
   "source": [
    "#7 计算1-10的阶乘\n",
    "\n",
    "def Factorial(a):\n",
    "    num = 1\n",
    "    for i in range(1,a + 1):\n",
    "        num *= i\n",
    "    return num\n",
    "\n",
    "print(Factorial(10))"
   ]
  },
  {
   "cell_type": "code",
   "execution_count": 157,
   "id": "48b59bdf",
   "metadata": {},
   "outputs": [
    {
     "name": "stdout",
     "output_type": "stream",
     "text": [
      "   *   \n",
      "  ***  \n",
      " ***** \n",
      "*******\n",
      " ***** \n",
      "  ***  \n",
      "   *   \n"
     ]
    }
   ],
   "source": [
    "#8  打印出图形\n",
    "a = '*'\n",
    "for i in range(1,8,2):\n",
    "    b = (7-i)//2\n",
    "    print(' '*b + a*i + ' '*b)\n",
    "for i in reversed(range(1,6,2)):\n",
    "    b = (7-i)//2\n",
    "    print(' '*b + a*i + ' '*b)"
   ]
  },
  {
   "cell_type": "code",
   "execution_count": 158,
   "id": "285d68ef",
   "metadata": {},
   "outputs": [
    {
     "name": "stdout",
     "output_type": "stream",
     "text": [
      "['e', 'd', 'c', 'b', 'a']\n",
      "\n"
     ]
    }
   ],
   "source": [
    "#9 递归反向输出\n",
    "def reversePrint(str):\n",
    "    reverse_list = []\n",
    "    for i in range(1,len(str)+1):\n",
    "        reverse_list.append(str[(-i)])\n",
    "    print(reverse_list)\n",
    "    return ''\n",
    "print(reversePrint(str = 'abcde'))"
   ]
  },
  {
   "cell_type": "code",
   "execution_count": 159,
   "id": "e4ccb91d",
   "metadata": {},
   "outputs": [
    {
     "name": "stdout",
     "output_type": "stream",
     "text": [
      "12321 is Palindrome\n"
     ]
    }
   ],
   "source": [
    "#10 判断5位数是不是回文\n",
    "def Palindrome(a):\n",
    "    a_str = str(a)\n",
    "    if a_str[0] == a_str[4] and a_str[1] == a_str[3]:\n",
    "        print(a_str + \" is Palindrome\")\n",
    "    else:\n",
    "        print(a_str + \" is not Palindrome\")\n",
    "Palindrome(12321)"
   ]
  }
 ],
 "metadata": {
  "kernelspec": {
   "display_name": "Python 3",
   "language": "python",
   "name": "python3"
  },
  "language_info": {
   "codemirror_mode": {
    "name": "ipython",
    "version": 3
   },
   "file_extension": ".py",
   "mimetype": "text/x-python",
   "name": "python",
   "nbconvert_exporter": "python",
   "pygments_lexer": "ipython3",
   "version": "3.8.8"
  }
 },
 "nbformat": 4,
 "nbformat_minor": 5
}
